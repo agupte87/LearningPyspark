{
  "nbformat": 4,
  "nbformat_minor": 0,
  "metadata": {
    "colab": {
      "name": "Chapter5.ipynb",
      "provenance": [],
      "collapsed_sections": [],
      "authorship_tag": "ABX9TyPTdF5dTLO8/m/qXl6Le4M2",
      "include_colab_link": true
    },
    "kernelspec": {
      "name": "python3",
      "display_name": "Python 3"
    },
    "language_info": {
      "name": "python"
    }
  },
  "cells": [
    {
      "cell_type": "markdown",
      "metadata": {
        "id": "view-in-github",
        "colab_type": "text"
      },
      "source": [
        "<a href=\"https://colab.research.google.com/github/agupte87/LearningPyspark/blob/master/Chapter5.ipynb\" target=\"_parent\"><img src=\"https://colab.research.google.com/assets/colab-badge.svg\" alt=\"Open In Colab\"/></a>"
      ]
    },
    {
      "cell_type": "code",
      "metadata": {
        "id": "AEmJ2KAYSczP",
        "colab": {
          "base_uri": "https://localhost:8080/"
        },
        "outputId": "a9a5d078-87ff-447d-f67c-03ed702903f5"
      },
      "source": [
        "%cd ..\n",
        "%mkdir spark"
      ],
      "execution_count": 1,
      "outputs": [
        {
          "output_type": "stream",
          "text": [
            "/\n"
          ],
          "name": "stdout"
        }
      ]
    },
    {
      "cell_type": "code",
      "metadata": {
        "id": "8zxdVf2PQfT7"
      },
      "source": [
        "!apt-get install openjdk-8-jdk-headless -qq > /dev/null"
      ],
      "execution_count": 2,
      "outputs": []
    },
    {
      "cell_type": "code",
      "metadata": {
        "colab": {
          "base_uri": "https://localhost:8080/"
        },
        "id": "I54Xf5OXQjFG",
        "outputId": "106dfe30-8ccc-4186-9554-b90388d9d074"
      },
      "source": [
        "!wget -P /spark/ https://apache.osuosl.org/spark/spark-3.0.3/spark-3.0.3-bin-hadoop3.2.tgz"
      ],
      "execution_count": 3,
      "outputs": [
        {
          "output_type": "stream",
          "text": [
            "--2021-07-27 15:09:50--  https://apache.osuosl.org/spark/spark-3.0.3/spark-3.0.3-bin-hadoop3.2.tgz\n",
            "Resolving apache.osuosl.org (apache.osuosl.org)... 140.211.166.134, 64.50.233.100, 64.50.236.52, ...\n",
            "Connecting to apache.osuosl.org (apache.osuosl.org)|140.211.166.134|:443... connected.\n",
            "HTTP request sent, awaiting response... 200 OK\n",
            "Length: 224762914 (214M) [application/x-gzip]\n",
            "Saving to: ‘/spark/spark-3.0.3-bin-hadoop3.2.tgz’\n",
            "\n",
            "spark-3.0.3-bin-had 100%[===================>] 214.35M  18.2MB/s    in 21s     \n",
            "\n",
            "2021-07-27 15:10:11 (10.1 MB/s) - ‘/spark/spark-3.0.3-bin-hadoop3.2.tgz’ saved [224762914/224762914]\n",
            "\n"
          ],
          "name": "stdout"
        }
      ]
    },
    {
      "cell_type": "code",
      "metadata": {
        "id": "MKp6fJVLQm_V"
      },
      "source": [
        "!tar xf /spark/spark-3.0.3-bin-hadoop3.2.tgz \n",
        "%mv spark-3.0.3-bin-hadoop3.2 /spark/"
      ],
      "execution_count": 4,
      "outputs": []
    },
    {
      "cell_type": "code",
      "metadata": {
        "id": "N0JIe2-tXEhX"
      },
      "source": [
        "!pip install -q findspark"
      ],
      "execution_count": 5,
      "outputs": []
    },
    {
      "cell_type": "code",
      "metadata": {
        "id": "1XQw4QA2W53J"
      },
      "source": [
        "import os\n",
        "os.environ[\"JAVA_HOME\"] = \"/usr/lib/jvm/java-8-openjdk-amd64\"\n",
        "os.environ[\"SPARK_HOME\"] = \"/spark/spark-3.0.3-bin-hadoop3.2\""
      ],
      "execution_count": 6,
      "outputs": []
    },
    {
      "cell_type": "code",
      "metadata": {
        "id": "KBFRhpg0Qr6N"
      },
      "source": [
        "import findspark\n",
        "findspark.init()\n",
        "from pyspark.sql import SparkSession\n",
        "spark = SparkSession.builder.master(\"local[*]\").getOrCreate()"
      ],
      "execution_count": 7,
      "outputs": []
    },
    {
      "cell_type": "code",
      "metadata": {
        "colab": {
          "base_uri": "https://localhost:8080/",
          "height": 35
        },
        "id": "fi6PSDmbyjZS",
        "outputId": "359b2651-5969-4cc4-a707-2c78c42c7da6"
      },
      "source": [
        "%pwd"
      ],
      "execution_count": 8,
      "outputs": [
        {
          "output_type": "execute_result",
          "data": {
            "application/vnd.google.colaboratory.intrinsic+json": {
              "type": "string"
            },
            "text/plain": [
              "'/'"
            ]
          },
          "metadata": {
            "tags": []
          },
          "execution_count": 8
        }
      ]
    },
    {
      "cell_type": "code",
      "metadata": {
        "id": "oZBqZT-JyUmg"
      },
      "source": [
        "#%cd /content/\n",
        "#%mkdir /chapterData \n",
        "#%cd /chapterData\n",
        "#%mkdir flight-data\n",
        "#%cd flight-data/\n"
      ],
      "execution_count": 9,
      "outputs": []
    },
    {
      "cell_type": "code",
      "metadata": {
        "colab": {
          "base_uri": "https://localhost:8080/"
        },
        "id": "uiE74yqAy6OR",
        "outputId": "f5f55358-e84e-449e-d4d3-6bd6ae398846"
      },
      "source": [
        "#%mv /chapterData/flight-data /content/"
      ],
      "execution_count": 10,
      "outputs": [
        {
          "output_type": "stream",
          "text": [
            "mv: cannot stat '/chapterData/flight-data': No such file or directory\n"
          ],
          "name": "stdout"
        }
      ]
    },
    {
      "cell_type": "code",
      "metadata": {
        "colab": {
          "base_uri": "https://localhost:8080/"
        },
        "id": "cr7KDf7ByPO0",
        "outputId": "62ff501e-2962-49d8-fb4f-64813c547b41"
      },
      "source": [
        "!wget -P /content/chapterData/flight-data/ https://raw.githubusercontent.com/databricks/Spark-The-Definitive-Guide/master/data/flight-data/csv/2015-summary.csv\n"
      ],
      "execution_count": 11,
      "outputs": [
        {
          "output_type": "stream",
          "text": [
            "--2021-07-27 15:10:24--  https://raw.githubusercontent.com/databricks/Spark-The-Definitive-Guide/master/data/flight-data/csv/2015-summary.csv\n",
            "Resolving raw.githubusercontent.com (raw.githubusercontent.com)... 185.199.108.133, 185.199.109.133, 185.199.110.133, ...\n",
            "Connecting to raw.githubusercontent.com (raw.githubusercontent.com)|185.199.108.133|:443... connected.\n",
            "HTTP request sent, awaiting response... 200 OK\n",
            "Length: 7080 (6.9K) [text/plain]\n",
            "Saving to: ‘/content/chapterData/flight-data/2015-summary.csv’\n",
            "\n",
            "2015-summary.csv    100%[===================>]   6.91K  --.-KB/s    in 0s      \n",
            "\n",
            "2021-07-27 15:10:25 (25.9 MB/s) - ‘/content/chapterData/flight-data/2015-summary.csv’ saved [7080/7080]\n",
            "\n"
          ],
          "name": "stdout"
        }
      ]
    },
    {
      "cell_type": "code",
      "metadata": {
        "colab": {
          "base_uri": "https://localhost:8080/"
        },
        "id": "KFVCfcIYMGmm",
        "outputId": "2c67a4f7-e139-4096-8a48-6392f0038a9c"
      },
      "source": [
        "!wget -P /content/chapterData/flight-data/ https://raw.githubusercontent.com/databricks/Spark-The-Definitive-Guide/master/data/flight-data/json/2015-summary.json"
      ],
      "execution_count": 12,
      "outputs": [
        {
          "output_type": "stream",
          "text": [
            "--2021-07-27 15:10:25--  https://raw.githubusercontent.com/databricks/Spark-The-Definitive-Guide/master/data/flight-data/json/2015-summary.json\n",
            "Resolving raw.githubusercontent.com (raw.githubusercontent.com)... 185.199.108.133, 185.199.109.133, 185.199.110.133, ...\n",
            "Connecting to raw.githubusercontent.com (raw.githubusercontent.com)|185.199.108.133|:443... connected.\n",
            "HTTP request sent, awaiting response... 200 OK\n",
            "Length: 21368 (21K) [text/plain]\n",
            "Saving to: ‘/content/chapterData/flight-data/2015-summary.json’\n",
            "\n",
            "2015-summary.json   100%[===================>]  20.87K  --.-KB/s    in 0.001s  \n",
            "\n",
            "2021-07-27 15:10:25 (22.8 MB/s) - ‘/content/chapterData/flight-data/2015-summary.json’ saved [21368/21368]\n",
            "\n"
          ],
          "name": "stdout"
        }
      ]
    },
    {
      "cell_type": "code",
      "metadata": {
        "id": "PKjkAGuLDrG0"
      },
      "source": [
        "from pyspark.sql.types import  StructField, StructType, StringType, LongType\n",
        "myManualSchema = StructType([StructField(\"DEST_COUNTRY_NAME\", StringType(), True),StructField(\"ORIGIN_COUNTRY_NAME\", StringType(),True), StructField(\"Count\", LongType(),False, metadata={\"hello\":\"world\"})])"
      ],
      "execution_count": 13,
      "outputs": []
    },
    {
      "cell_type": "code",
      "metadata": {
        "id": "oDmvsK2IGWR-"
      },
      "source": [
        "df = spark.read.format(\"json\")\\\n",
        ".schema(myManualSchema).\\\n",
        "load(\"/content/chapterData/flight-data/2015-summary.json\")"
      ],
      "execution_count": 14,
      "outputs": []
    },
    {
      "cell_type": "code",
      "metadata": {
        "colab": {
          "base_uri": "https://localhost:8080/"
        },
        "id": "_X9WOai_GqY4",
        "outputId": "8357044a-879d-4fae-8f35-f57dc087211b"
      },
      "source": [
        "df.first()"
      ],
      "execution_count": 15,
      "outputs": [
        {
          "output_type": "execute_result",
          "data": {
            "text/plain": [
              "Row(DEST_COUNTRY_NAME='United States', ORIGIN_COUNTRY_NAME='Romania', Count=None)"
            ]
          },
          "metadata": {
            "tags": []
          },
          "execution_count": 15
        }
      ]
    },
    {
      "cell_type": "code",
      "metadata": {
        "id": "xymD34sxXcrC"
      },
      "source": [
        "from pyspark.sql import Row\n",
        "myRow = Row(\"Aditi\", \"Gupte\", 34)"
      ],
      "execution_count": 16,
      "outputs": []
    },
    {
      "cell_type": "code",
      "metadata": {
        "colab": {
          "base_uri": "https://localhost:8080/"
        },
        "id": "y84tTr-HXsxS",
        "outputId": "6a9ede28-4ce5-4b70-c694-15d52f75209a"
      },
      "source": [
        "myRow[2]"
      ],
      "execution_count": 17,
      "outputs": [
        {
          "output_type": "execute_result",
          "data": {
            "text/plain": [
              "34"
            ]
          },
          "metadata": {
            "tags": []
          },
          "execution_count": 17
        }
      ]
    },
    {
      "cell_type": "code",
      "metadata": {
        "id": "GSyz4BRuew0j"
      },
      "source": [
        "df = spark.read.format(\"json\")\\\n",
        ".load(\"/content/chapterData/flight-data/2015-summary.json\")"
      ],
      "execution_count": 18,
      "outputs": []
    },
    {
      "cell_type": "code",
      "metadata": {
        "id": "dxsfU7Yje3a0"
      },
      "source": [
        "df.createOrReplaceTempView(\"dfTable\")"
      ],
      "execution_count": 19,
      "outputs": []
    },
    {
      "cell_type": "code",
      "metadata": {
        "id": "It-oyObVhVq1"
      },
      "source": [
        "from pyspark.sql.types import StructType, StructField, LongType , StringType\n",
        "from pyspark.sql import Row\n",
        "myManualSchema1 = StructType([StructField (\"Some\", StringType(), True),StructField (\"Sample\", StringType(), True), StructField (\"Columns\",LongType(), False)  ])"
      ],
      "execution_count": 20,
      "outputs": []
    },
    {
      "cell_type": "code",
      "metadata": {
        "colab": {
          "base_uri": "https://localhost:8080/"
        },
        "id": "skic9v4MmQ55",
        "outputId": "c0b314d3-f924-4d2c-eb62-ebfc47134629"
      },
      "source": [
        "myRow = Row(\"Hello\",None, 1)\n",
        "myDf = spark.createDataFrame([myRow], myManualSchema1)\n",
        "myDf.show()"
      ],
      "execution_count": 21,
      "outputs": [
        {
          "output_type": "stream",
          "text": [
            "+-----+------+-------+\n",
            "| Some|Sample|Columns|\n",
            "+-----+------+-------+\n",
            "|Hello|  null|      1|\n",
            "+-----+------+-------+\n",
            "\n"
          ],
          "name": "stdout"
        }
      ]
    },
    {
      "cell_type": "code",
      "metadata": {
        "colab": {
          "base_uri": "https://localhost:8080/"
        },
        "id": "97WrjHKPnWxg",
        "outputId": "0b3233c7-b558-4806-d062-654e527fbb3d"
      },
      "source": [
        "df"
      ],
      "execution_count": 22,
      "outputs": [
        {
          "output_type": "execute_result",
          "data": {
            "text/plain": [
              "DataFrame[DEST_COUNTRY_NAME: string, ORIGIN_COUNTRY_NAME: string, count: bigint]"
            ]
          },
          "metadata": {
            "tags": []
          },
          "execution_count": 22
        }
      ]
    },
    {
      "cell_type": "code",
      "metadata": {
        "colab": {
          "base_uri": "https://localhost:8080/"
        },
        "id": "OW6BK2tWm6qn",
        "outputId": "47bc92cc-2924-4c88-cade-fdff7dc1a7d4"
      },
      "source": [
        "\n",
        "df.select(\"DEST_COUNTRY_NAME\", \"ORIGIN_COUNTRY_NAME\").show(1)"
      ],
      "execution_count": 23,
      "outputs": [
        {
          "output_type": "stream",
          "text": [
            "+-----------------+-------------------+\n",
            "|DEST_COUNTRY_NAME|ORIGIN_COUNTRY_NAME|\n",
            "+-----------------+-------------------+\n",
            "|    United States|            Romania|\n",
            "+-----------------+-------------------+\n",
            "only showing top 1 row\n",
            "\n"
          ],
          "name": "stdout"
        }
      ]
    },
    {
      "cell_type": "code",
      "metadata": {
        "colab": {
          "base_uri": "https://localhost:8080/"
        },
        "id": "quN8bO8_ngkX",
        "outputId": "442103eb-5a2f-445a-900c-716c957f7200"
      },
      "source": [
        "from pyspark.sql.functions import expr, col, column\n",
        "df.select(\n",
        "    expr(\"DEST_COUNTRY_NAME\"),\n",
        "    col(\"DEST_COUNTRY_NAME\"),\n",
        "    column(\"DEST_COUNTRY_NAME\")\n",
        ").show(2)"
      ],
      "execution_count": 24,
      "outputs": [
        {
          "output_type": "stream",
          "text": [
            "+-----------------+-----------------+-----------------+\n",
            "|DEST_COUNTRY_NAME|DEST_COUNTRY_NAME|DEST_COUNTRY_NAME|\n",
            "+-----------------+-----------------+-----------------+\n",
            "|    United States|    United States|    United States|\n",
            "|    United States|    United States|    United States|\n",
            "+-----------------+-----------------+-----------------+\n",
            "only showing top 2 rows\n",
            "\n"
          ],
          "name": "stdout"
        }
      ]
    },
    {
      "cell_type": "code",
      "metadata": {
        "colab": {
          "base_uri": "https://localhost:8080/"
        },
        "id": "EiRMUxYqprZ8",
        "outputId": "7f8d668c-234d-4eed-c072-a85bb792014c"
      },
      "source": [
        "df.select(expr(\"DEST_COUNTRY_NAME as Destination_Country\")\\\n",
        "        #  .alias(\"DEST_COUNTRY_NAME\")\\\n",
        "          )\\\n",
        "          .show(2)"
      ],
      "execution_count": 25,
      "outputs": [
        {
          "output_type": "stream",
          "text": [
            "+-------------------+\n",
            "|Destination_Country|\n",
            "+-------------------+\n",
            "|      United States|\n",
            "|      United States|\n",
            "+-------------------+\n",
            "only showing top 2 rows\n",
            "\n"
          ],
          "name": "stdout"
        }
      ]
    },
    {
      "cell_type": "code",
      "metadata": {
        "colab": {
          "base_uri": "https://localhost:8080/"
        },
        "id": "Bv0gnQJFq7Ko",
        "outputId": "ca2e7b71-899e-4fe0-9f1e-31711dc6e96d"
      },
      "source": [
        "df.selectExpr(\"DEST_COUNTRY_NAME as newColumnName\",\"DEST_COUNTRY_NAME\").show(2)\n"
      ],
      "execution_count": 26,
      "outputs": [
        {
          "output_type": "stream",
          "text": [
            "+-------------+-----------------+\n",
            "|newColumnName|DEST_COUNTRY_NAME|\n",
            "+-------------+-----------------+\n",
            "|United States|    United States|\n",
            "|United States|    United States|\n",
            "+-------------+-----------------+\n",
            "only showing top 2 rows\n",
            "\n"
          ],
          "name": "stdout"
        }
      ]
    },
    {
      "cell_type": "code",
      "metadata": {
        "colab": {
          "base_uri": "https://localhost:8080/"
        },
        "id": "d_cNy-3Ar72t",
        "outputId": "3c33c45e-8bec-42a4-ca48-feba68f397ce"
      },
      "source": [
        "df.selectExpr(\"*\", \"(DEST_COUNTRY_NAME =  ORIGIN_COUNTRY_NAME ) as withinCountry\").show(2)"
      ],
      "execution_count": 27,
      "outputs": [
        {
          "output_type": "stream",
          "text": [
            "+-----------------+-------------------+-----+-------------+\n",
            "|DEST_COUNTRY_NAME|ORIGIN_COUNTRY_NAME|count|withinCountry|\n",
            "+-----------------+-------------------+-----+-------------+\n",
            "|    United States|            Romania|   15|        false|\n",
            "|    United States|            Croatia|    1|        false|\n",
            "+-----------------+-------------------+-----+-------------+\n",
            "only showing top 2 rows\n",
            "\n"
          ],
          "name": "stdout"
        }
      ]
    },
    {
      "cell_type": "code",
      "metadata": {
        "colab": {
          "base_uri": "https://localhost:8080/"
        },
        "id": "fC1RpswmssiM",
        "outputId": "a29d1849-ec8b-400a-c157-fc885d0b3e43"
      },
      "source": [
        "df.selectExpr(\"count(distinct(DEST_COUNTRY_NAME))\", \"sum(count)\").show(2)"
      ],
      "execution_count": 28,
      "outputs": [
        {
          "output_type": "stream",
          "text": [
            "+---------------------------------+----------+\n",
            "|count(DISTINCT DEST_COUNTRY_NAME)|sum(count)|\n",
            "+---------------------------------+----------+\n",
            "|                              132|    453316|\n",
            "+---------------------------------+----------+\n",
            "\n"
          ],
          "name": "stdout"
        }
      ]
    },
    {
      "cell_type": "code",
      "metadata": {
        "colab": {
          "base_uri": "https://localhost:8080/"
        },
        "id": "nPpxbfAbti0I",
        "outputId": "d6cf1896-475b-447d-f8db-48137449beb7"
      },
      "source": [
        "from pyspark.sql.functions import  lit\n",
        "df.select(expr(\"*\"), lit(\"1\").alias(\"One\")).show(10)"
      ],
      "execution_count": 29,
      "outputs": [
        {
          "output_type": "stream",
          "text": [
            "+-----------------+-------------------+-----+---+\n",
            "|DEST_COUNTRY_NAME|ORIGIN_COUNTRY_NAME|count|One|\n",
            "+-----------------+-------------------+-----+---+\n",
            "|    United States|            Romania|   15|  1|\n",
            "|    United States|            Croatia|    1|  1|\n",
            "|    United States|            Ireland|  344|  1|\n",
            "|            Egypt|      United States|   15|  1|\n",
            "|    United States|              India|   62|  1|\n",
            "|    United States|          Singapore|    1|  1|\n",
            "|    United States|            Grenada|   62|  1|\n",
            "|       Costa Rica|      United States|  588|  1|\n",
            "|          Senegal|      United States|   40|  1|\n",
            "|          Moldova|      United States|    1|  1|\n",
            "+-----------------+-------------------+-----+---+\n",
            "only showing top 10 rows\n",
            "\n"
          ],
          "name": "stdout"
        }
      ]
    },
    {
      "cell_type": "code",
      "metadata": {
        "colab": {
          "base_uri": "https://localhost:8080/"
        },
        "id": "SReVIIKQuMMd",
        "outputId": "96ef0c58-5ee9-462f-8315-fb6af3c3e84c"
      },
      "source": [
        "df.withColumn(\"One\", lit(1)).show(2)"
      ],
      "execution_count": 30,
      "outputs": [
        {
          "output_type": "stream",
          "text": [
            "+-----------------+-------------------+-----+---+\n",
            "|DEST_COUNTRY_NAME|ORIGIN_COUNTRY_NAME|count|One|\n",
            "+-----------------+-------------------+-----+---+\n",
            "|    United States|            Romania|   15|  1|\n",
            "|    United States|            Croatia|    1|  1|\n",
            "+-----------------+-------------------+-----+---+\n",
            "only showing top 2 rows\n",
            "\n"
          ],
          "name": "stdout"
        }
      ]
    },
    {
      "cell_type": "code",
      "metadata": {
        "colab": {
          "base_uri": "https://localhost:8080/"
        },
        "id": "R7FHZohCvTiC",
        "outputId": "7c801b29-d3e4-40df-fa80-8581702b37d2"
      },
      "source": [
        "df.withColumn(\"withinCountry\",expr(\"DEST_COUNTRY_NAME == ORIGIN_COUNTRY_NAME\")).show(2)"
      ],
      "execution_count": 31,
      "outputs": [
        {
          "output_type": "stream",
          "text": [
            "+-----------------+-------------------+-----+-------------+\n",
            "|DEST_COUNTRY_NAME|ORIGIN_COUNTRY_NAME|count|withinCountry|\n",
            "+-----------------+-------------------+-----+-------------+\n",
            "|    United States|            Romania|   15|        false|\n",
            "|    United States|            Croatia|    1|        false|\n",
            "+-----------------+-------------------+-----+-------------+\n",
            "only showing top 2 rows\n",
            "\n"
          ],
          "name": "stdout"
        }
      ]
    },
    {
      "cell_type": "code",
      "metadata": {
        "colab": {
          "base_uri": "https://localhost:8080/"
        },
        "id": "0aRqZZjqv8O5",
        "outputId": "43bd8e67-dd7d-44f8-ce8d-6cc98696b370"
      },
      "source": [
        "df.withColumn(\"Destination_country\",expr(\"DEST_COUNTRY_NAME\")).show(2)"
      ],
      "execution_count": 32,
      "outputs": [
        {
          "output_type": "stream",
          "text": [
            "+-----------------+-------------------+-----+-------------------+\n",
            "|DEST_COUNTRY_NAME|ORIGIN_COUNTRY_NAME|count|Destination_country|\n",
            "+-----------------+-------------------+-----+-------------------+\n",
            "|    United States|            Romania|   15|      United States|\n",
            "|    United States|            Croatia|    1|      United States|\n",
            "+-----------------+-------------------+-----+-------------------+\n",
            "only showing top 2 rows\n",
            "\n"
          ],
          "name": "stdout"
        }
      ]
    },
    {
      "cell_type": "code",
      "metadata": {
        "colab": {
          "base_uri": "https://localhost:8080/"
        },
        "id": "OBGOTn1iwRLW",
        "outputId": "90fff793-22f5-4dcb-e343-3d048d970b4a"
      },
      "source": [
        "df.withColumnRenamed(\"DEST_COUNTRY_NAME\", \"Destination_country\").show(2)"
      ],
      "execution_count": 33,
      "outputs": [
        {
          "output_type": "stream",
          "text": [
            "+-------------------+-------------------+-----+\n",
            "|Destination_country|ORIGIN_COUNTRY_NAME|count|\n",
            "+-------------------+-------------------+-----+\n",
            "|      United States|            Romania|   15|\n",
            "|      United States|            Croatia|    1|\n",
            "+-------------------+-------------------+-----+\n",
            "only showing top 2 rows\n",
            "\n"
          ],
          "name": "stdout"
        }
      ]
    }
  ]
}