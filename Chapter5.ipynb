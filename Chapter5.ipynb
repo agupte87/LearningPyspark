{
  "nbformat": 4,
  "nbformat_minor": 0,
  "metadata": {
    "colab": {
      "name": "Chapter5.ipynb",
      "provenance": [],
      "collapsed_sections": [],
      "authorship_tag": "ABX9TyOZcBFkpq2d0jqCjw2Eyt92",
      "include_colab_link": true
    },
    "kernelspec": {
      "name": "python3",
      "display_name": "Python 3"
    },
    "language_info": {
      "name": "python"
    }
  },
  "cells": [
    {
      "cell_type": "markdown",
      "metadata": {
        "id": "view-in-github",
        "colab_type": "text"
      },
      "source": [
        "<a href=\"https://colab.research.google.com/github/agupte87/LearningPyspark/blob/master/Chapter5.ipynb\" target=\"_parent\"><img src=\"https://colab.research.google.com/assets/colab-badge.svg\" alt=\"Open In Colab\"/></a>"
      ]
    },
    {
      "cell_type": "code",
      "metadata": {
        "id": "AEmJ2KAYSczP",
        "colab": {
          "base_uri": "https://localhost:8080/"
        },
        "outputId": "a3b74d12-0c3e-4e1b-f8b4-0842f8bae6a3"
      },
      "source": [
        "%cd ..\n",
        "%mkdir spark"
      ],
      "execution_count": 1,
      "outputs": [
        {
          "output_type": "stream",
          "text": [
            "/\n"
          ],
          "name": "stdout"
        }
      ]
    },
    {
      "cell_type": "code",
      "metadata": {
        "id": "8zxdVf2PQfT7"
      },
      "source": [
        "!apt-get install openjdk-8-jdk-headless -qq > /dev/null"
      ],
      "execution_count": 2,
      "outputs": []
    },
    {
      "cell_type": "code",
      "metadata": {
        "colab": {
          "base_uri": "https://localhost:8080/"
        },
        "id": "I54Xf5OXQjFG",
        "outputId": "6ff19209-7804-4fd7-b849-1dc75214df0d"
      },
      "source": [
        "!wget -P /spark/ https://apache.osuosl.org/spark/spark-3.0.3/spark-3.0.3-bin-hadoop3.2.tgz"
      ],
      "execution_count": 3,
      "outputs": [
        {
          "output_type": "stream",
          "text": [
            "--2021-07-26 17:07:20--  https://apache.osuosl.org/spark/spark-3.0.3/spark-3.0.3-bin-hadoop3.2.tgz\n",
            "Resolving apache.osuosl.org (apache.osuosl.org)... 64.50.236.52, 64.50.233.100, 140.211.166.134, ...\n",
            "Connecting to apache.osuosl.org (apache.osuosl.org)|64.50.236.52|:443... connected.\n",
            "HTTP request sent, awaiting response... 200 OK\n",
            "Length: 224762914 (214M) [application/x-gzip]\n",
            "Saving to: ‘/spark/spark-3.0.3-bin-hadoop3.2.tgz’\n",
            "\n",
            "spark-3.0.3-bin-had 100%[===================>] 214.35M  57.8MB/s    in 11s     \n",
            "\n",
            "2021-07-26 17:07:31 (20.3 MB/s) - ‘/spark/spark-3.0.3-bin-hadoop3.2.tgz’ saved [224762914/224762914]\n",
            "\n"
          ],
          "name": "stdout"
        }
      ]
    },
    {
      "cell_type": "code",
      "metadata": {
        "id": "MKp6fJVLQm_V"
      },
      "source": [
        "!tar xf /spark/spark-3.0.3-bin-hadoop3.2.tgz \n",
        "%mv spark-3.0.3-bin-hadoop3.2 /spark/"
      ],
      "execution_count": 4,
      "outputs": []
    },
    {
      "cell_type": "code",
      "metadata": {
        "id": "N0JIe2-tXEhX"
      },
      "source": [
        "!pip install -q findspark"
      ],
      "execution_count": 5,
      "outputs": []
    },
    {
      "cell_type": "code",
      "metadata": {
        "id": "1XQw4QA2W53J"
      },
      "source": [
        "import os\n",
        "os.environ[\"JAVA_HOME\"] = \"/usr/lib/jvm/java-8-openjdk-amd64\"\n",
        "os.environ[\"SPARK_HOME\"] = \"/spark/spark-3.0.3-bin-hadoop3.2\""
      ],
      "execution_count": 6,
      "outputs": []
    },
    {
      "cell_type": "code",
      "metadata": {
        "id": "KBFRhpg0Qr6N"
      },
      "source": [
        "import findspark\n",
        "findspark.init()\n",
        "from pyspark.sql import SparkSession\n",
        "spark = SparkSession.builder.master(\"local[*]\").getOrCreate()"
      ],
      "execution_count": 7,
      "outputs": []
    },
    {
      "cell_type": "code",
      "metadata": {
        "colab": {
          "base_uri": "https://localhost:8080/",
          "height": 35
        },
        "id": "fi6PSDmbyjZS",
        "outputId": "872ac33f-0058-47c4-f46d-1a91187be097"
      },
      "source": [
        "%pwd"
      ],
      "execution_count": 10,
      "outputs": [
        {
          "output_type": "execute_result",
          "data": {
            "application/vnd.google.colaboratory.intrinsic+json": {
              "type": "string"
            },
            "text/plain": [
              "'/chapterData/flight-data'"
            ]
          },
          "metadata": {
            "tags": []
          },
          "execution_count": 10
        }
      ]
    },
    {
      "cell_type": "code",
      "metadata": {
        "colab": {
          "base_uri": "https://localhost:8080/"
        },
        "id": "oZBqZT-JyUmg",
        "outputId": "9ed34586-ddc4-4a07-f25e-06e4404b49df"
      },
      "source": [
        "%cd /content/\n",
        "%mkdir /chapterData \n",
        "%cd /chapterData\n",
        "%mkdir flight-data\n",
        "%cd flight-data/\n"
      ],
      "execution_count": 9,
      "outputs": [
        {
          "output_type": "stream",
          "text": [
            "/content\n",
            "/chapterData\n",
            "/chapterData/flight-data\n"
          ],
          "name": "stdout"
        }
      ]
    },
    {
      "cell_type": "code",
      "metadata": {
        "id": "uiE74yqAy6OR"
      },
      "source": [
        "%mv /chapterData/flight-data /content/"
      ],
      "execution_count": 11,
      "outputs": []
    },
    {
      "cell_type": "code",
      "metadata": {
        "colab": {
          "base_uri": "https://localhost:8080/"
        },
        "id": "cr7KDf7ByPO0",
        "outputId": "4327daec-8bab-40ff-fc97-551d3eec4e89"
      },
      "source": [
        "!wget -P /content/chapterData/flight-data/ https://raw.githubusercontent.com/databricks/Spark-The-Definitive-Guide/master/data/flight-data/csv/2015-summary.csv\n"
      ],
      "execution_count": 13,
      "outputs": [
        {
          "output_type": "stream",
          "text": [
            "shell-init: error retrieving current directory: getcwd: cannot access parent directories: No such file or directory\n",
            "--2021-07-26 18:22:48--  https://raw.githubusercontent.com/databricks/Spark-The-Definitive-Guide/master/data/flight-data/csv/2015-summary.csv\n",
            "Resolving raw.githubusercontent.com (raw.githubusercontent.com)... 185.199.108.133, 185.199.109.133, 185.199.110.133, ...\n",
            "Connecting to raw.githubusercontent.com (raw.githubusercontent.com)|185.199.108.133|:443... connected.\n",
            "HTTP request sent, awaiting response... 200 OK\n",
            "Length: 7080 (6.9K) [text/plain]\n",
            "Saving to: ‘/content/chapterData/flight-data/2015-summary.csv’\n",
            "\n",
            "\r2015-summary.csv      0%[                    ]       0  --.-KB/s               \r2015-summary.csv    100%[===================>]   6.91K  --.-KB/s    in 0s      \n",
            "\n",
            "2021-07-26 18:22:48 (75.3 MB/s) - ‘/content/chapterData/flight-data/2015-summary.csv’ saved [7080/7080]\n",
            "\n"
          ],
          "name": "stdout"
        }
      ]
    },
    {
      "cell_type": "code",
      "metadata": {
        "colab": {
          "base_uri": "https://localhost:8080/"
        },
        "id": "KFVCfcIYMGmm",
        "outputId": "50b55147-f673-48a3-d97a-81df22b78d32"
      },
      "source": [
        "!wget -P /content/chapterData/flight-data/ https://raw.githubusercontent.com/databricks/Spark-The-Definitive-Guide/master/data/flight-data/json/2015-summary.json"
      ],
      "execution_count": 22,
      "outputs": [
        {
          "output_type": "stream",
          "text": [
            "shell-init: error retrieving current directory: getcwd: cannot access parent directories: No such file or directory\n",
            "--2021-07-26 19:00:18--  https://raw.githubusercontent.com/databricks/Spark-The-Definitive-Guide/master/data/flight-data/json/2015-summary.json\n",
            "Resolving raw.githubusercontent.com (raw.githubusercontent.com)... 185.199.108.133, 185.199.109.133, 185.199.110.133, ...\n",
            "Connecting to raw.githubusercontent.com (raw.githubusercontent.com)|185.199.108.133|:443... connected.\n",
            "HTTP request sent, awaiting response... 200 OK\n",
            "Length: 21368 (21K) [text/plain]\n",
            "Saving to: ‘/content/chapterData/flight-data/2015-summary.json’\n",
            "\n",
            "\r2015-summary.json     0%[                    ]       0  --.-KB/s               \r2015-summary.json   100%[===================>]  20.87K  --.-KB/s    in 0s      \n",
            "\n",
            "2021-07-26 19:00:18 (68.6 MB/s) - ‘/content/chapterData/flight-data/2015-summary.json’ saved [21368/21368]\n",
            "\n"
          ],
          "name": "stdout"
        }
      ]
    },
    {
      "cell_type": "code",
      "metadata": {
        "id": "PKjkAGuLDrG0"
      },
      "source": [
        "from pyspark.sql.types import  StructField, StructType, StringType, LongType\n",
        "myManualSchema = StructType([StructField(\"DEST_COUNTRY_NAME\", StringType(), True),StructField(\"ORIGIN_COUNTRY_NAME\", StringType(),True), StructField(\"Count\", LongType(),False, metadata={\"hello\":\"world\"})])"
      ],
      "execution_count": 75,
      "outputs": []
    },
    {
      "cell_type": "code",
      "metadata": {
        "id": "oDmvsK2IGWR-"
      },
      "source": [
        "df = spark.read.format(\"json\")\\\n",
        ".schema(myManualSchema).\\\n",
        "load(\"/content/chapterData/flight-data/2015-summary.json\")"
      ],
      "execution_count": 76,
      "outputs": []
    },
    {
      "cell_type": "code",
      "metadata": {
        "colab": {
          "base_uri": "https://localhost:8080/"
        },
        "id": "_X9WOai_GqY4",
        "outputId": "7fa37ea4-0a26-47da-badf-d7df3db96ab8"
      },
      "source": [
        "df.first()"
      ],
      "execution_count": 35,
      "outputs": [
        {
          "output_type": "execute_result",
          "data": {
            "text/plain": [
              "Row(DEST_COUNTRY_NAME='United States', ORIGIN_COUNTRY_NAME='Romania', count=15)"
            ]
          },
          "metadata": {
            "tags": []
          },
          "execution_count": 35
        }
      ]
    },
    {
      "cell_type": "code",
      "metadata": {
        "id": "xymD34sxXcrC"
      },
      "source": [
        "from pyspark.sql import Row\n",
        "myRow = Row(\"Aditi\", \"Gupte\", 34)"
      ],
      "execution_count": 37,
      "outputs": []
    },
    {
      "cell_type": "code",
      "metadata": {
        "colab": {
          "base_uri": "https://localhost:8080/"
        },
        "id": "y84tTr-HXsxS",
        "outputId": "5fb87f54-bc08-4a74-d71d-f7593838e944"
      },
      "source": [
        "myRow[2]"
      ],
      "execution_count": 48,
      "outputs": [
        {
          "output_type": "execute_result",
          "data": {
            "text/plain": [
              "34"
            ]
          },
          "metadata": {
            "tags": []
          },
          "execution_count": 48
        }
      ]
    },
    {
      "cell_type": "code",
      "metadata": {
        "id": "GSyz4BRuew0j"
      },
      "source": [
        "df = spark.read.format(\"json\")\\\n",
        ".load(\"/content/chapterData/flight-data/2015-summary.json\")"
      ],
      "execution_count": 49,
      "outputs": []
    },
    {
      "cell_type": "code",
      "metadata": {
        "id": "dxsfU7Yje3a0"
      },
      "source": [
        "df.createOrReplaceTempView(\"dfTable\")"
      ],
      "execution_count": 50,
      "outputs": []
    },
    {
      "cell_type": "code",
      "metadata": {
        "id": "It-oyObVhVq1"
      },
      "source": [
        "from pyspark.sql.types import StructType, StructField, LongType , StringType\n",
        "from pyspark.sql import Row\n",
        "myManualSchema1 = StructType([StructField (\"Some\", StringType(), True),StructField (\"Sample\", StringType(), True), StructField (\"Columns\",LongType(), False)  ])"
      ],
      "execution_count": 67,
      "outputs": []
    },
    {
      "cell_type": "code",
      "metadata": {
        "colab": {
          "base_uri": "https://localhost:8080/"
        },
        "id": "skic9v4MmQ55",
        "outputId": "f6be6651-c9e0-49b4-b8a7-d03c5d3c0946"
      },
      "source": [
        "myRow = Row(\"Hello\",None, 1)\n",
        "myDf = spark.createDataFrame([myRow], myManualSchema1)\n",
        "myDf.show()"
      ],
      "execution_count": 72,
      "outputs": [
        {
          "output_type": "stream",
          "text": [
            "+-----+------+-------+\n",
            "| Some|Sample|Columns|\n",
            "+-----+------+-------+\n",
            "|Hello|  null|      1|\n",
            "+-----+------+-------+\n",
            "\n"
          ],
          "name": "stdout"
        }
      ]
    },
    {
      "cell_type": "code",
      "metadata": {
        "colab": {
          "base_uri": "https://localhost:8080/"
        },
        "id": "97WrjHKPnWxg",
        "outputId": "567ded8e-0f46-44bf-c3e7-365fd4c8d632"
      },
      "source": [
        "df"
      ],
      "execution_count": 81,
      "outputs": [
        {
          "output_type": "execute_result",
          "data": {
            "text/plain": [
              "DataFrame[DEST_COUNTRY_NAME: string, ORIGIN_COUNTRY_NAME: string, Count: bigint]"
            ]
          },
          "metadata": {
            "tags": []
          },
          "execution_count": 81
        }
      ]
    },
    {
      "cell_type": "code",
      "metadata": {
        "colab": {
          "base_uri": "https://localhost:8080/"
        },
        "id": "OW6BK2tWm6qn",
        "outputId": "3febb115-9ac5-42f3-fdae-6e2bd03cd1fa"
      },
      "source": [
        "\n",
        "df.select(\"DEST_COUNTRY_NAME\", \"ORIGIN_COUNTRY_NAME\").show(1)"
      ],
      "execution_count": 82,
      "outputs": [
        {
          "output_type": "stream",
          "text": [
            "+-----------------+-------------------+\n",
            "|DEST_COUNTRY_NAME|ORIGIN_COUNTRY_NAME|\n",
            "+-----------------+-------------------+\n",
            "|    United States|            Romania|\n",
            "+-----------------+-------------------+\n",
            "only showing top 1 row\n",
            "\n"
          ],
          "name": "stdout"
        }
      ]
    },
    {
      "cell_type": "code",
      "metadata": {
        "colab": {
          "base_uri": "https://localhost:8080/"
        },
        "id": "quN8bO8_ngkX",
        "outputId": "ec4447c5-7660-4fb2-af6f-173b9e13351d"
      },
      "source": [
        "from pyspark.sql.functions import expr, col, column\n",
        "df.select(\n",
        "    expr(\"DEST_COUNTRY_NAME\"),\n",
        "    col(\"DEST_COUNTRY_NAME\"),\n",
        "    column(\"DEST_COUNTRY_NAME\")\n",
        ").show(2)"
      ],
      "execution_count": 84,
      "outputs": [
        {
          "output_type": "stream",
          "text": [
            "+-----------------+-----------------+-----------------+\n",
            "|DEST_COUNTRY_NAME|DEST_COUNTRY_NAME|DEST_COUNTRY_NAME|\n",
            "+-----------------+-----------------+-----------------+\n",
            "|    United States|    United States|    United States|\n",
            "|    United States|    United States|    United States|\n",
            "+-----------------+-----------------+-----------------+\n",
            "only showing top 2 rows\n",
            "\n"
          ],
          "name": "stdout"
        }
      ]
    },
    {
      "cell_type": "code",
      "metadata": {
        "colab": {
          "base_uri": "https://localhost:8080/"
        },
        "id": "EiRMUxYqprZ8",
        "outputId": "b0522c6e-b99d-4a75-ffc2-3f0c07857cdd"
      },
      "source": [
        "df.select(expr(\"DEST_COUNTRY_NAME as Destination_Country\")\\\n",
        "        #  .alias(\"DEST_COUNTRY_NAME\")\\\n",
        "          )\\\n",
        "          .show(2)"
      ],
      "execution_count": 89,
      "outputs": [
        {
          "output_type": "stream",
          "text": [
            "+-------------------+\n",
            "|Destination_Country|\n",
            "+-------------------+\n",
            "|      United States|\n",
            "|      United States|\n",
            "+-------------------+\n",
            "only showing top 2 rows\n",
            "\n"
          ],
          "name": "stdout"
        }
      ]
    },
    {
      "cell_type": "code",
      "metadata": {
        "colab": {
          "base_uri": "https://localhost:8080/"
        },
        "id": "Bv0gnQJFq7Ko",
        "outputId": "1e41abfe-3cc0-4cd6-dbe4-e93502a469b2"
      },
      "source": [
        "df.selectExpr(\"DEST_COUNTRY_NAME as newColumnName\",\"DEST_COUNTRY_NAME\").show(2)\n"
      ],
      "execution_count": 96,
      "outputs": [
        {
          "output_type": "stream",
          "text": [
            "+-------------+-----------------+\n",
            "|newColumnName|DEST_COUNTRY_NAME|\n",
            "+-------------+-----------------+\n",
            "|United States|    United States|\n",
            "|United States|    United States|\n",
            "+-------------+-----------------+\n",
            "only showing top 2 rows\n",
            "\n"
          ],
          "name": "stdout"
        }
      ]
    },
    {
      "cell_type": "code",
      "metadata": {
        "colab": {
          "base_uri": "https://localhost:8080/"
        },
        "id": "d_cNy-3Ar72t",
        "outputId": "1fc4f561-d21e-4d7e-b5cf-ac55e9e217e9"
      },
      "source": [
        "df.selectExpr(\"*\", \"(DEST_COUNTRY_NAME =  ORIGIN_COUNTRY_NAME ) as withinCountry\").show(2)"
      ],
      "execution_count": 99,
      "outputs": [
        {
          "output_type": "stream",
          "text": [
            "+-----------------+-------------------+-----+-------------+\n",
            "|DEST_COUNTRY_NAME|ORIGIN_COUNTRY_NAME|Count|withinCountry|\n",
            "+-----------------+-------------------+-----+-------------+\n",
            "|    United States|            Romania| null|        false|\n",
            "|    United States|            Croatia| null|        false|\n",
            "+-----------------+-------------------+-----+-------------+\n",
            "only showing top 2 rows\n",
            "\n"
          ],
          "name": "stdout"
        }
      ]
    },
    {
      "cell_type": "code",
      "metadata": {
        "colab": {
          "base_uri": "https://localhost:8080/"
        },
        "id": "fC1RpswmssiM",
        "outputId": "0aaed642-b951-4d83-b7ba-a290e89250f8"
      },
      "source": [
        "df.selectExpr(\"count(distinct(DEST_COUNTRY_NAME))\", \"sum(count)\").show(2)"
      ],
      "execution_count": 104,
      "outputs": [
        {
          "output_type": "stream",
          "text": [
            "+---------------------------------+----------+\n",
            "|count(DISTINCT DEST_COUNTRY_NAME)|sum(count)|\n",
            "+---------------------------------+----------+\n",
            "|                              132|      null|\n",
            "+---------------------------------+----------+\n",
            "\n"
          ],
          "name": "stdout"
        }
      ]
    },
    {
      "cell_type": "code",
      "metadata": {
        "colab": {
          "base_uri": "https://localhost:8080/"
        },
        "id": "nPpxbfAbti0I",
        "outputId": "dddcb808-f699-4730-8c7d-4d339ff2bbb5"
      },
      "source": [
        "from pyspark.sql.functions import  lit\n",
        "df.select(expr(\"*\"), lit(\"1\").alias(\"One\")).show(10)"
      ],
      "execution_count": 106,
      "outputs": [
        {
          "output_type": "stream",
          "text": [
            "+-----------------+-------------------+-----+---+\n",
            "|DEST_COUNTRY_NAME|ORIGIN_COUNTRY_NAME|Count|One|\n",
            "+-----------------+-------------------+-----+---+\n",
            "|    United States|            Romania| null|  1|\n",
            "|    United States|            Croatia| null|  1|\n",
            "|    United States|            Ireland| null|  1|\n",
            "|            Egypt|      United States| null|  1|\n",
            "|    United States|              India| null|  1|\n",
            "|    United States|          Singapore| null|  1|\n",
            "|    United States|            Grenada| null|  1|\n",
            "|       Costa Rica|      United States| null|  1|\n",
            "|          Senegal|      United States| null|  1|\n",
            "|          Moldova|      United States| null|  1|\n",
            "+-----------------+-------------------+-----+---+\n",
            "only showing top 10 rows\n",
            "\n"
          ],
          "name": "stdout"
        }
      ]
    },
    {
      "cell_type": "code",
      "metadata": {
        "colab": {
          "base_uri": "https://localhost:8080/"
        },
        "id": "SReVIIKQuMMd",
        "outputId": "6379fc86-b7c2-477b-e761-dedea9e51ff0"
      },
      "source": [
        "df.withColumn(\"One\", lit(1)).show(2)"
      ],
      "execution_count": 111,
      "outputs": [
        {
          "output_type": "stream",
          "text": [
            "+-----------------+-------------------+-----+---+\n",
            "|DEST_COUNTRY_NAME|ORIGIN_COUNTRY_NAME|Count|One|\n",
            "+-----------------+-------------------+-----+---+\n",
            "|    United States|            Romania| null|  1|\n",
            "|    United States|            Croatia| null|  1|\n",
            "+-----------------+-------------------+-----+---+\n",
            "only showing top 2 rows\n",
            "\n"
          ],
          "name": "stdout"
        }
      ]
    },
    {
      "cell_type": "code",
      "metadata": {
        "colab": {
          "base_uri": "https://localhost:8080/"
        },
        "id": "R7FHZohCvTiC",
        "outputId": "fa756092-ecbb-41d4-bcca-4a7c5c904e55"
      },
      "source": [
        "df.withColumn(\"withinCountry\",expr(\"DEST_COUNTRY_NAME == ORIGIN_COUNTRY_NAME\")).show(2)"
      ],
      "execution_count": 112,
      "outputs": [
        {
          "output_type": "stream",
          "text": [
            "+-----------------+-------------------+-----+-------------+\n",
            "|DEST_COUNTRY_NAME|ORIGIN_COUNTRY_NAME|Count|withinCountry|\n",
            "+-----------------+-------------------+-----+-------------+\n",
            "|    United States|            Romania| null|        false|\n",
            "|    United States|            Croatia| null|        false|\n",
            "+-----------------+-------------------+-----+-------------+\n",
            "only showing top 2 rows\n",
            "\n"
          ],
          "name": "stdout"
        }
      ]
    },
    {
      "cell_type": "code",
      "metadata": {
        "colab": {
          "base_uri": "https://localhost:8080/"
        },
        "id": "0aRqZZjqv8O5",
        "outputId": "7e2521b3-4aec-4896-c2f4-692cb2b38c37"
      },
      "source": [
        "df.withColumn(\"Destination_country\",expr(\"DEST_COUNTRY_NAME\")).show(2)"
      ],
      "execution_count": 114,
      "outputs": [
        {
          "output_type": "stream",
          "text": [
            "+-----------------+-------------------+-----+-------------------+\n",
            "|DEST_COUNTRY_NAME|ORIGIN_COUNTRY_NAME|Count|Destination_country|\n",
            "+-----------------+-------------------+-----+-------------------+\n",
            "|    United States|            Romania| null|      United States|\n",
            "|    United States|            Croatia| null|      United States|\n",
            "+-----------------+-------------------+-----+-------------------+\n",
            "only showing top 2 rows\n",
            "\n"
          ],
          "name": "stdout"
        }
      ]
    },
    {
      "cell_type": "code",
      "metadata": {
        "colab": {
          "base_uri": "https://localhost:8080/"
        },
        "id": "OBGOTn1iwRLW",
        "outputId": "21beea20-3ba3-4d3e-fdf2-e298e5543090"
      },
      "source": [
        "df.withColumnRenamed(\"DEST_COUNTRY_NAME\", \"Destination_country\").show(2)"
      ],
      "execution_count": 117,
      "outputs": [
        {
          "output_type": "stream",
          "text": [
            "+-------------------+-------------------+-----+\n",
            "|Destination_country|ORIGIN_COUNTRY_NAME|Count|\n",
            "+-------------------+-------------------+-----+\n",
            "|      United States|            Romania| null|\n",
            "|      United States|            Croatia| null|\n",
            "+-------------------+-------------------+-----+\n",
            "only showing top 2 rows\n",
            "\n"
          ],
          "name": "stdout"
        }
      ]
    }
  ]
}