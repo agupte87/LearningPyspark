{
  "nbformat": 4,
  "nbformat_minor": 0,
  "metadata": {
    "colab": {
      "name": "Second.ipynb",
      "provenance": [],
      "authorship_tag": "ABX9TyNHgJ8abcnc7fPS3pqUitg7",
      "include_colab_link": true
    },
    "kernelspec": {
      "name": "python3",
      "display_name": "Python 3"
    },
    "language_info": {
      "name": "python"
    }
  },
  "cells": [
    {
      "cell_type": "markdown",
      "metadata": {
        "id": "view-in-github",
        "colab_type": "text"
      },
      "source": [
        "<a href=\"https://colab.research.google.com/github/agupte87/LearningPyspark/blob/master/Second.ipynb\" target=\"_parent\"><img src=\"https://colab.research.google.com/assets/colab-badge.svg\" alt=\"Open In Colab\"/></a>"
      ]
    },
    {
      "cell_type": "code",
      "metadata": {
        "id": "A-xdB2r59YbR"
      },
      "source": [
        "!apt-get install openjdk-8-jdk-headless -qq > /dev/null\n"
      ],
      "execution_count": 25,
      "outputs": []
    },
    {
      "cell_type": "code",
      "metadata": {
        "colab": {
          "base_uri": "https://localhost:8080/"
        },
        "id": "I5JP2ISz_Nla",
        "outputId": "92a7ae93-9bf7-47b4-a955-57972f510fb3"
      },
      "source": [
        "!wget -P /spark https://apache.osuosl.org/spark/spark-3.0.3/spark-3.0.3-bin-hadoop3.2.tgz"
      ],
      "execution_count": 36,
      "outputs": [
        {
          "output_type": "stream",
          "text": [
            "--2021-07-19 18:36:11--  https://apache.osuosl.org/spark/spark-3.0.3/spark-3.0.3-bin-hadoop3.2.tgz\n",
            "Resolving apache.osuosl.org (apache.osuosl.org)... 64.50.236.52, 64.50.233.100, 140.211.166.134, ...\n",
            "Connecting to apache.osuosl.org (apache.osuosl.org)|64.50.236.52|:443... connected.\n",
            "HTTP request sent, awaiting response... 200 OK\n",
            "Length: 224762914 (214M) [application/x-gzip]\n",
            "Saving to: ‘/spark/spark-3.0.3-bin-hadoop3.2.tgz’\n",
            "\n",
            "spark-3.0.3-bin-had 100%[===================>] 214.35M  74.8MB/s    in 2.9s    \n",
            "\n",
            "2021-07-19 18:36:14 (74.8 MB/s) - ‘/spark/spark-3.0.3-bin-hadoop3.2.tgz’ saved [224762914/224762914]\n",
            "\n"
          ],
          "name": "stdout"
        }
      ]
    },
    {
      "cell_type": "code",
      "metadata": {
        "id": "uqwNzsyX_vU2"
      },
      "source": [
        "!tar xf /spark/spark-3.0.3-bin-hadoop3.2.tgz\n"
      ],
      "execution_count": 38,
      "outputs": []
    },
    {
      "cell_type": "code",
      "metadata": {
        "id": "YwCLTawmCRXD"
      },
      "source": [
        "!pip install -q findspark"
      ],
      "execution_count": 39,
      "outputs": []
    },
    {
      "cell_type": "code",
      "metadata": {
        "id": "l_ozJmm_CZ1-"
      },
      "source": [
        "import os\n",
        "os.environ[\"JAVA_HOME\"] = \"/usr/lib/jvm/java-8-openjdk-amd64\"\n",
        "os.environ[\"SPARK_HOME\"] = \"/content/spark-3.0.3-bin-hadoop3.2\"\n"
      ],
      "execution_count": 42,
      "outputs": []
    },
    {
      "cell_type": "code",
      "metadata": {
        "id": "5-UnWzkNC52Z"
      },
      "source": [
        "import findspark\n",
        "findspark.init()\n",
        "from pyspark.sql import SparkSession\n",
        "spark = SparkSession.builder.master(\"local[*]\").getOrCreate()"
      ],
      "execution_count": 43,
      "outputs": []
    },
    {
      "cell_type": "code",
      "metadata": {
        "id": "gg6MnuTeD4x4"
      },
      "source": [
        "myRange = spark.range(1000).toDF(\"number\")"
      ],
      "execution_count": 45,
      "outputs": []
    },
    {
      "cell_type": "code",
      "metadata": {
        "colab": {
          "base_uri": "https://localhost:8080/"
        },
        "id": "K-T4MGYWE4YU",
        "outputId": "524ed65c-da95-4af1-ce7b-1f630e54e888"
      },
      "source": [
        "myRange.show(10)"
      ],
      "execution_count": 46,
      "outputs": [
        {
          "output_type": "stream",
          "text": [
            "+------+\n",
            "|number|\n",
            "+------+\n",
            "|     0|\n",
            "|     1|\n",
            "|     2|\n",
            "|     3|\n",
            "|     4|\n",
            "|     5|\n",
            "|     6|\n",
            "|     7|\n",
            "|     8|\n",
            "|     9|\n",
            "+------+\n",
            "only showing top 10 rows\n",
            "\n"
          ],
          "name": "stdout"
        }
      ]
    },
    {
      "cell_type": "code",
      "metadata": {
        "id": "3ndEZDVEGKdo",
        "outputId": "07115197-fb0e-4d5e-9661-50bcd94dd37c",
        "colab": {
          "base_uri": "https://localhost:8080/"
        }
      },
      "source": [
        "#find all even numbers in myRange\n",
        "dvBy2 = myRange.where(\"number % 2 = 0\")\n",
        "dvBy2.show(10)"
      ],
      "execution_count": 49,
      "outputs": [
        {
          "output_type": "stream",
          "text": [
            "+------+\n",
            "|number|\n",
            "+------+\n",
            "|     0|\n",
            "|     2|\n",
            "|     4|\n",
            "|     6|\n",
            "|     8|\n",
            "|    10|\n",
            "|    12|\n",
            "|    14|\n",
            "|    16|\n",
            "|    18|\n",
            "+------+\n",
            "only showing top 10 rows\n",
            "\n"
          ],
          "name": "stdout"
        }
      ]
    },
    {
      "cell_type": "code",
      "metadata": {
        "id": "fcRVcVNaJlNA",
        "outputId": "a89d35cf-c1e9-435a-b406-e5412b83c91e",
        "colab": {
          "base_uri": "https://localhost:8080/"
        }
      },
      "source": [
        "!wget -P /sample_data/ https://raw.githubusercontent.com/databricks/Spark-The-Definitive-Guide/master/data/flight-data/csv/2015-summary.csv"
      ],
      "execution_count": 61,
      "outputs": [
        {
          "output_type": "stream",
          "text": [
            "--2021-07-19 19:25:56--  https://raw.githubusercontent.com/databricks/Spark-The-Definitive-Guide/master/data/flight-data/csv/2015-summary.csv\n",
            "Resolving raw.githubusercontent.com (raw.githubusercontent.com)... 185.199.108.133, 185.199.109.133, 185.199.110.133, ...\n",
            "Connecting to raw.githubusercontent.com (raw.githubusercontent.com)|185.199.108.133|:443... connected.\n",
            "HTTP request sent, awaiting response... 200 OK\n",
            "Length: 7080 (6.9K) [text/plain]\n",
            "Saving to: ‘/sample_data/2015-summary.csv.1’\n",
            "\n",
            "\r2015-summary.csv.1    0%[                    ]       0  --.-KB/s               \r2015-summary.csv.1  100%[===================>]   6.91K  --.-KB/s    in 0s      \n",
            "\n",
            "2021-07-19 19:25:56 (54.3 MB/s) - ‘/sample_data/2015-summary.csv.1’ saved [7080/7080]\n",
            "\n"
          ],
          "name": "stdout"
        }
      ]
    },
    {
      "cell_type": "code",
      "metadata": {
        "id": "tkpJ7qNAJtxb",
        "outputId": "b155f877-265f-4d25-e06c-ee5389796767",
        "colab": {
          "base_uri": "https://localhost:8080/"
        }
      },
      "source": [
        "%cd /sample_data/\n",
        "%mv 2015-summary.csv.1 2015-summary.csv\n",
        "%ls"
      ],
      "execution_count": 65,
      "outputs": [
        {
          "output_type": "stream",
          "text": [
            "/sample_data\n",
            "2015-summary.csv\n"
          ],
          "name": "stdout"
        }
      ]
    },
    {
      "cell_type": "code",
      "metadata": {
        "id": "y7BtgtobO8Ry"
      },
      "source": [
        "#Reading from the file, inferring the schema and also including the header\n",
        "from pyspark.sql.functions import to_timestamp,col,lit\n",
        "#rc = spark.read.csv('/sample_data/2015-summary.csv', header=True).show(10)\n",
        "flightData2015 = spark \\\n",
        ". read \\\n",
        ". option ( \"inferSchema\" , \"true\" ) \\\n",
        ". option ( \"header\" , \"true\" ) \\\n",
        ". csv ( \"/sample_data/2015-summary.csv\" )\n",
        "\n",
        "\n"
      ],
      "execution_count": 75,
      "outputs": []
    }
  ]
}