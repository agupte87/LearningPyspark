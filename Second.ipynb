{
  "nbformat": 4,
  "nbformat_minor": 0,
  "metadata": {
    "colab": {
      "name": "Second.ipynb",
      "provenance": [],
      "authorship_tag": "ABX9TyM5FIX+HVbAcm+kyERUCzSG",
      "include_colab_link": true
    },
    "kernelspec": {
      "name": "python3",
      "display_name": "Python 3"
    },
    "language_info": {
      "name": "python"
    }
  },
  "cells": [
    {
      "cell_type": "markdown",
      "metadata": {
        "id": "view-in-github",
        "colab_type": "text"
      },
      "source": [
        "<a href=\"https://colab.research.google.com/github/agupte87/LearningPyspark/blob/master/Second.ipynb\" target=\"_parent\"><img src=\"https://colab.research.google.com/assets/colab-badge.svg\" alt=\"Open In Colab\"/></a>"
      ]
    },
    {
      "cell_type": "code",
      "metadata": {
        "id": "Z_TWmSskFfji"
      },
      "source": [
        "%mkdir spark"
      ],
      "execution_count": 1,
      "outputs": []
    },
    {
      "cell_type": "code",
      "metadata": {
        "id": "A-xdB2r59YbR"
      },
      "source": [
        "!apt-get install openjdk-8-jdk-headless -qq > /dev/null\n"
      ],
      "execution_count": 2,
      "outputs": []
    },
    {
      "cell_type": "code",
      "metadata": {
        "colab": {
          "base_uri": "https://localhost:8080/"
        },
        "id": "I5JP2ISz_Nla",
        "outputId": "97df0119-47d4-4f92-c838-4404478dec31"
      },
      "source": [
        "!wget -P /spark https://apache.osuosl.org/spark/spark-3.0.3/spark-3.0.3-bin-hadoop3.2.tgz"
      ],
      "execution_count": 3,
      "outputs": [
        {
          "output_type": "stream",
          "text": [
            "--2021-07-20 13:24:14--  https://apache.osuosl.org/spark/spark-3.0.3/spark-3.0.3-bin-hadoop3.2.tgz\n",
            "Resolving apache.osuosl.org (apache.osuosl.org)... 140.211.166.134, 64.50.233.100, 64.50.236.52, ...\n",
            "Connecting to apache.osuosl.org (apache.osuosl.org)|140.211.166.134|:443... connected.\n",
            "HTTP request sent, awaiting response... 200 OK\n",
            "Length: 224762914 (214M) [application/x-gzip]\n",
            "Saving to: ‘/spark/spark-3.0.3-bin-hadoop3.2.tgz’\n",
            "\n",
            "spark-3.0.3-bin-had 100%[===================>] 214.35M  18.4MB/s    in 2m 37s  \n",
            "\n",
            "2021-07-20 13:26:51 (1.37 MB/s) - ‘/spark/spark-3.0.3-bin-hadoop3.2.tgz’ saved [224762914/224762914]\n",
            "\n"
          ],
          "name": "stdout"
        }
      ]
    },
    {
      "cell_type": "code",
      "metadata": {
        "id": "uqwNzsyX_vU2"
      },
      "source": [
        "!tar xf /spark/spark-3.0.3-bin-hadoop3.2.tgz\n"
      ],
      "execution_count": 4,
      "outputs": []
    },
    {
      "cell_type": "code",
      "metadata": {
        "id": "YwCLTawmCRXD"
      },
      "source": [
        "!pip install -q findspark"
      ],
      "execution_count": 5,
      "outputs": []
    },
    {
      "cell_type": "code",
      "metadata": {
        "id": "l_ozJmm_CZ1-"
      },
      "source": [
        "import os\n",
        "os.environ[\"JAVA_HOME\"] = \"/usr/lib/jvm/java-8-openjdk-amd64\"\n",
        "os.environ[\"SPARK_HOME\"] = \"/content/spark-3.0.3-bin-hadoop3.2\"\n"
      ],
      "execution_count": 6,
      "outputs": []
    },
    {
      "cell_type": "code",
      "metadata": {
        "id": "5-UnWzkNC52Z"
      },
      "source": [
        "import findspark\n",
        "findspark.init()\n",
        "from pyspark.sql import SparkSession\n",
        "spark = SparkSession.builder.master(\"local[*]\").getOrCreate()"
      ],
      "execution_count": 7,
      "outputs": []
    },
    {
      "cell_type": "code",
      "metadata": {
        "id": "gg6MnuTeD4x4"
      },
      "source": [
        "myRange = spark.range(1000).toDF(\"number\")"
      ],
      "execution_count": 8,
      "outputs": []
    },
    {
      "cell_type": "code",
      "metadata": {
        "colab": {
          "base_uri": "https://localhost:8080/"
        },
        "id": "K-T4MGYWE4YU",
        "outputId": "777f4d7c-9c25-45c0-846f-3d0329a1c204"
      },
      "source": [
        "myRange.show(10)"
      ],
      "execution_count": 9,
      "outputs": [
        {
          "output_type": "stream",
          "text": [
            "+------+\n",
            "|number|\n",
            "+------+\n",
            "|     0|\n",
            "|     1|\n",
            "|     2|\n",
            "|     3|\n",
            "|     4|\n",
            "|     5|\n",
            "|     6|\n",
            "|     7|\n",
            "|     8|\n",
            "|     9|\n",
            "+------+\n",
            "only showing top 10 rows\n",
            "\n"
          ],
          "name": "stdout"
        }
      ]
    },
    {
      "cell_type": "code",
      "metadata": {
        "colab": {
          "base_uri": "https://localhost:8080/"
        },
        "id": "3ndEZDVEGKdo",
        "outputId": "b906c7d1-cf24-4948-a4c7-e2cf16d9be2f"
      },
      "source": [
        "#find all even numbers in myRange\n",
        "dvBy2 = myRange.where(\"number % 2 = 0\")\n",
        "dvBy2.show(10)"
      ],
      "execution_count": 10,
      "outputs": [
        {
          "output_type": "stream",
          "text": [
            "+------+\n",
            "|number|\n",
            "+------+\n",
            "|     0|\n",
            "|     2|\n",
            "|     4|\n",
            "|     6|\n",
            "|     8|\n",
            "|    10|\n",
            "|    12|\n",
            "|    14|\n",
            "|    16|\n",
            "|    18|\n",
            "+------+\n",
            "only showing top 10 rows\n",
            "\n"
          ],
          "name": "stdout"
        }
      ]
    },
    {
      "cell_type": "code",
      "metadata": {
        "colab": {
          "base_uri": "https://localhost:8080/"
        },
        "id": "fcRVcVNaJlNA",
        "outputId": "efe4a2cf-b217-4f99-905a-83dddd3e0d96"
      },
      "source": [
        "!wget -P /sample_data/ https://raw.githubusercontent.com/databricks/Spark-The-Definitive-Guide/master/data/flight-data/csv/2015-summary.csv"
      ],
      "execution_count": 11,
      "outputs": [
        {
          "output_type": "stream",
          "text": [
            "--2021-07-20 13:27:12--  https://raw.githubusercontent.com/databricks/Spark-The-Definitive-Guide/master/data/flight-data/csv/2015-summary.csv\n",
            "Resolving raw.githubusercontent.com (raw.githubusercontent.com)... 185.199.111.133, 185.199.110.133, 185.199.108.133, ...\n",
            "Connecting to raw.githubusercontent.com (raw.githubusercontent.com)|185.199.111.133|:443... connected.\n",
            "HTTP request sent, awaiting response... 200 OK\n",
            "Length: 7080 (6.9K) [text/plain]\n",
            "Saving to: ‘/sample_data/2015-summary.csv’\n",
            "\n",
            "2015-summary.csv    100%[===================>]   6.91K  --.-KB/s    in 0s      \n",
            "\n",
            "2021-07-20 13:27:12 (77.7 MB/s) - ‘/sample_data/2015-summary.csv’ saved [7080/7080]\n",
            "\n"
          ],
          "name": "stdout"
        }
      ]
    },
    {
      "cell_type": "code",
      "metadata": {
        "colab": {
          "base_uri": "https://localhost:8080/"
        },
        "id": "tkpJ7qNAJtxb",
        "outputId": "814c2570-56b7-4478-a28f-9f204172b55a"
      },
      "source": [
        "%cd /sample_data/\n",
        "%mv 2015-summary.csv.1 2015-summary.csv\n",
        "%ls"
      ],
      "execution_count": 12,
      "outputs": [
        {
          "output_type": "stream",
          "text": [
            "/sample_data\n",
            "mv: cannot stat '2015-summary.csv.1': No such file or directory\n",
            "2015-summary.csv\n"
          ],
          "name": "stdout"
        }
      ]
    },
    {
      "cell_type": "code",
      "metadata": {
        "id": "JDdcMGqkRssC"
      },
      "source": [
        "#Reading from the file, inferring the schema and also including the header\n",
        "from pyspark.sql.functions import to_timestamp,col,lit\n",
        "#rc = spark.read.csv('/sample_data/2015-summary.csv', header=True).show(10)\n",
        "flightData2015 = spark \\\n",
        ". read \\\n",
        ". option ( \"inferSchema\" , \"true\" ) \\\n",
        ". option ( \"header\" , \"true\" ) \\\n",
        ". csv ( \"/sample_data/2015-summary.csv\" )\n",
        "\n",
        "\n"
      ],
      "execution_count": 13,
      "outputs": []
    },
    {
      "cell_type": "code",
      "metadata": {
        "colab": {
          "base_uri": "https://localhost:8080/"
        },
        "id": "FEAlz43LRt54",
        "outputId": "1902434b-85e3-4e9f-9730-847475f7039e"
      },
      "source": [
        "flightData2015.sort(\"count\").explain()"
      ],
      "execution_count": 14,
      "outputs": [
        {
          "output_type": "stream",
          "text": [
            "== Physical Plan ==\n",
            "*(1) Sort [count#32 ASC NULLS FIRST], true, 0\n",
            "+- Exchange rangepartitioning(count#32 ASC NULLS FIRST, 200), true, [id=#54]\n",
            "   +- FileScan csv [DEST_COUNTRY_NAME#30,ORIGIN_COUNTRY_NAME#31,count#32] Batched: false, DataFilters: [], Format: CSV, Location: InMemoryFileIndex[file:/sample_data/2015-summary.csv], PartitionFilters: [], PushedFilters: [], ReadSchema: struct<DEST_COUNTRY_NAME:string,ORIGIN_COUNTRY_NAME:string,count:int>\n",
            "\n",
            "\n"
          ],
          "name": "stdout"
        }
      ]
    },
    {
      "cell_type": "code",
      "metadata": {
        "id": "WuVCXZxBT8U9"
      },
      "source": [
        "spark.conf.set(\"spark.sql.shuffle.partitions\", \"5\")"
      ],
      "execution_count": 15,
      "outputs": []
    },
    {
      "cell_type": "code",
      "metadata": {
        "colab": {
          "base_uri": "https://localhost:8080/"
        },
        "id": "BxHIcn0sUCyI",
        "outputId": "89f5f932-36ff-4a0a-843e-397b47c6cd1d"
      },
      "source": [
        "flightData2015.sort(\"count\").take(2)"
      ],
      "execution_count": 16,
      "outputs": [
        {
          "output_type": "execute_result",
          "data": {
            "text/plain": [
              "[Row(DEST_COUNTRY_NAME='United States', ORIGIN_COUNTRY_NAME='Singapore', count=1),\n",
              " Row(DEST_COUNTRY_NAME='Moldova', ORIGIN_COUNTRY_NAME='United States', count=1)]"
            ]
          },
          "metadata": {
            "tags": []
          },
          "execution_count": 16
        }
      ]
    },
    {
      "cell_type": "code",
      "metadata": {
        "id": "NG1eX6_va124"
      },
      "source": [
        "flightData2015.createOrReplaceTempView(\"flightData2015\")"
      ],
      "execution_count": 17,
      "outputs": []
    },
    {
      "cell_type": "code",
      "metadata": {
        "colab": {
          "base_uri": "https://localhost:8080/"
        },
        "id": "Z5Wcz6AGa9jC",
        "outputId": "20847b5d-4f26-4fda-e9f6-f1b0d5261554"
      },
      "source": [
        "flightData2015.groupBy(\"origin_country_name\")\\\n",
        ".count()\\\n",
        ".show(10)\\\n",
        "#flightData2015.show(10)\n",
        "spark.sql(\"select origin_country_name, count(*) from flightData2015 group by  origin_country_name\").show(10)"
      ],
      "execution_count": 18,
      "outputs": [
        {
          "output_type": "stream",
          "text": [
            "+--------------------+-----+\n",
            "| origin_country_name|count|\n",
            "+--------------------+-----+\n",
            "|             Ireland|    1|\n",
            "|           Singapore|    1|\n",
            "|    Marshall Islands|    1|\n",
            "|              Angola|    1|\n",
            "|            Portugal|    1|\n",
            "|            Suriname|    1|\n",
            "|          Cape Verde|    1|\n",
            "|            Malaysia|    1|\n",
            "|              Panama|    1|\n",
            "|Turks and Caicos ...|    1|\n",
            "+--------------------+-----+\n",
            "only showing top 10 rows\n",
            "\n",
            "+--------------------+--------+\n",
            "| origin_country_name|count(1)|\n",
            "+--------------------+--------+\n",
            "|             Ireland|       1|\n",
            "|           Singapore|       1|\n",
            "|    Marshall Islands|       1|\n",
            "|              Angola|       1|\n",
            "|            Portugal|       1|\n",
            "|            Suriname|       1|\n",
            "|          Cape Verde|       1|\n",
            "|            Malaysia|       1|\n",
            "|              Panama|       1|\n",
            "|Turks and Caicos ...|       1|\n",
            "+--------------------+--------+\n",
            "only showing top 10 rows\n",
            "\n"
          ],
          "name": "stdout"
        }
      ]
    },
    {
      "cell_type": "code",
      "metadata": {
        "colab": {
          "base_uri": "https://localhost:8080/"
        },
        "id": "6gi26CgtFVhx",
        "outputId": "e90c215c-38fa-4740-a288-6cf1e63d293d"
      },
      "source": [
        "flightData2015.show(1)"
      ],
      "execution_count": 28,
      "outputs": [
        {
          "output_type": "stream",
          "text": [
            "+-----------------+-------------------+-----+\n",
            "|DEST_COUNTRY_NAME|ORIGIN_COUNTRY_NAME|count|\n",
            "+-----------------+-------------------+-----+\n",
            "|    United States|            Romania|   15|\n",
            "+-----------------+-------------------+-----+\n",
            "only showing top 1 row\n",
            "\n"
          ],
          "name": "stdout"
        }
      ]
    },
    {
      "cell_type": "code",
      "metadata": {
        "id": "JLUx3AEYVQwo"
      },
      "source": [
        "\n",
        "from pyspark.sql.functions import max\n",
        "flightData2015.select(max(\"count\")).take(1)"
      ],
      "execution_count": null,
      "outputs": []
    },
    {
      "cell_type": "code",
      "metadata": {
        "colab": {
          "base_uri": "https://localhost:8080/"
        },
        "id": "I_nv-rcWU0u2",
        "outputId": "c2d85d43-094c-48cd-cc91-d7344033ab99"
      },
      "source": [
        "sumOfDestCountry = spark.sql(\"select DEST_COUNTRY_NAME, sum(count) as dest_total from  flightData2015 group by DEST_COUNTRY_NAME order by sum(count) desc limit 5 \")\n",
        "sumOfDestCountry.show()\n"
      ],
      "execution_count": 42,
      "outputs": [
        {
          "output_type": "stream",
          "text": [
            "+-----------------+----------+\n",
            "|DEST_COUNTRY_NAME|dest_total|\n",
            "+-----------------+----------+\n",
            "|    United States|    411352|\n",
            "|           Canada|      8399|\n",
            "|           Mexico|      7140|\n",
            "|   United Kingdom|      2025|\n",
            "|            Japan|      1548|\n",
            "+-----------------+----------+\n",
            "\n"
          ],
          "name": "stdout"
        }
      ]
    },
    {
      "cell_type": "code",
      "metadata": {
        "colab": {
          "base_uri": "https://localhost:8080/"
        },
        "id": "r9wp8bJxlQXN",
        "outputId": "8ba024d3-3a1c-49b7-aa97-9a77ad4ca70b"
      },
      "source": [
        "#With import of desc function\n",
        "from pyspark.sql.functions import desc \n",
        "getSum = flightData2015.groupBy(\"DEST_COUNTRY_NAME\")\\\n",
        ".sum(\"count\")\\\n",
        ".withColumnRenamed(\"sum(count)\", \"dest_total\")\\\n",
        ".sort(desc(\"dest_total\"))\n",
        "\n",
        "getSum\n",
        "  "
      ],
      "execution_count": 70,
      "outputs": [
        {
          "output_type": "execute_result",
          "data": {
            "text/plain": [
              "DataFrame[DEST_COUNTRY_NAME: string, dest_total: bigint]"
            ]
          },
          "metadata": {
            "tags": []
          },
          "execution_count": 70
        }
      ]
    },
    {
      "cell_type": "code",
      "metadata": {
        "id": "if6j73IgIpDJ"
      },
      "source": [
        "#Without import of desc function\n",
        "getSum = flightData2015\\\n",
        "  .groupBy(\"DEST_COUNTRY_NAME\")\\\n",
        "  .sum(\"count\")\\\n",
        "  .withColumnRenamed(\"sum(count)\", \"destination_total\")\n"
      ],
      "execution_count": 71,
      "outputs": []
    },
    {
      "cell_type": "code",
      "metadata": {
        "colab": {
          "base_uri": "https://localhost:8080/"
        },
        "id": "M2h6of5lxvHX",
        "outputId": "a326e1bb-7a3b-4bf0-e0ff-f34d7f81b86c"
      },
      "source": [
        "getSum.sort(getSum.destination_total.desc()).take(5)"
      ],
      "execution_count": 64,
      "outputs": [
        {
          "output_type": "execute_result",
          "data": {
            "text/plain": [
              "[Row(DEST_COUNTRY_NAME='United States', destination_total=411352),\n",
              " Row(DEST_COUNTRY_NAME='Canada', destination_total=8399),\n",
              " Row(DEST_COUNTRY_NAME='Mexico', destination_total=7140),\n",
              " Row(DEST_COUNTRY_NAME='United Kingdom', destination_total=2025),\n",
              " Row(DEST_COUNTRY_NAME='Japan', destination_total=1548)]"
            ]
          },
          "metadata": {
            "tags": []
          },
          "execution_count": 64
        }
      ]
    }
  ]
}