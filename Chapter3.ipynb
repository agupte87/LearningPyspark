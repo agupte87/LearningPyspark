{
  "nbformat": 4,
  "nbformat_minor": 0,
  "metadata": {
    "colab": {
      "name": "Chapter3.ipynb",
      "provenance": [],
      "authorship_tag": "ABX9TyNkf3+67nKi71AQJdhTXiGK",
      "include_colab_link": true
    },
    "kernelspec": {
      "name": "python3",
      "display_name": "Python 3"
    },
    "language_info": {
      "name": "python"
    }
  },
  "cells": [
    {
      "cell_type": "markdown",
      "metadata": {
        "id": "view-in-github",
        "colab_type": "text"
      },
      "source": [
        "<a href=\"https://colab.research.google.com/github/agupte87/LearningPyspark/blob/master/Chapter3.ipynb\" target=\"_parent\"><img src=\"https://colab.research.google.com/assets/colab-badge.svg\" alt=\"Open In Colab\"/></a>"
      ]
    },
    {
      "cell_type": "code",
      "metadata": {
        "id": "AEmJ2KAYSczP",
        "colab": {
          "base_uri": "https://localhost:8080/"
        },
        "outputId": "2080bb2e-d869-46b2-e04b-5f49a102badf"
      },
      "source": [
        "%cd ..\n",
        "%mkdir spark"
      ],
      "execution_count": 5,
      "outputs": [
        {
          "output_type": "stream",
          "text": [
            "/\n"
          ],
          "name": "stdout"
        }
      ]
    },
    {
      "cell_type": "code",
      "metadata": {
        "id": "8zxdVf2PQfT7"
      },
      "source": [
        "!apt-get install openjdk-8-jdk-headless -qq > /dev/null\n"
      ],
      "execution_count": 6,
      "outputs": []
    },
    {
      "cell_type": "code",
      "metadata": {
        "colab": {
          "base_uri": "https://localhost:8080/"
        },
        "id": "I54Xf5OXQjFG",
        "outputId": "89b3ef98-1ff6-470f-8ac6-3f24cf97a5b4"
      },
      "source": [
        "!wget -P /spark/ https://apache.osuosl.org/spark/spark-3.0.3/spark-3.0.3-bin-hadoop3.2.tgz"
      ],
      "execution_count": 7,
      "outputs": [
        {
          "output_type": "stream",
          "text": [
            "--2021-07-21 14:22:19--  https://apache.osuosl.org/spark/spark-3.0.3/spark-3.0.3-bin-hadoop3.2.tgz\n",
            "Resolving apache.osuosl.org (apache.osuosl.org)... 64.50.233.100, 140.211.166.134, 64.50.236.52, ...\n",
            "Connecting to apache.osuosl.org (apache.osuosl.org)|64.50.233.100|:443... connected.\n",
            "HTTP request sent, awaiting response... 200 OK\n",
            "Length: 224762914 (214M) [application/x-gzip]\n",
            "Saving to: ‘/spark/spark-3.0.3-bin-hadoop3.2.tgz’\n",
            "\n",
            "spark-3.0.3-bin-had 100%[===================>] 214.35M  28.0MB/s    in 29s     \n",
            "\n",
            "2021-07-21 14:22:48 (7.39 MB/s) - ‘/spark/spark-3.0.3-bin-hadoop3.2.tgz’ saved [224762914/224762914]\n",
            "\n"
          ],
          "name": "stdout"
        }
      ]
    },
    {
      "cell_type": "code",
      "metadata": {
        "id": "MKp6fJVLQm_V"
      },
      "source": [
        "!tar xf /spark/spark-3.0.3-bin-hadoop3.2.tgz \n",
        "%mv spark-3.0.3-bin-hadoop3.2 /spark/\n",
        "\n",
        "\n"
      ],
      "execution_count": 8,
      "outputs": []
    },
    {
      "cell_type": "code",
      "metadata": {
        "id": "N0JIe2-tXEhX"
      },
      "source": [
        "!pip install -q findspark"
      ],
      "execution_count": 9,
      "outputs": []
    },
    {
      "cell_type": "code",
      "metadata": {
        "id": "1XQw4QA2W53J"
      },
      "source": [
        "import os\n",
        "os.environ[\"JAVA_HOME\"] = \"/usr/lib/jvm/java-8-openjdk-amd64\"\n",
        "os.environ[\"SPARK_HOME\"] = \"/spark/spark-3.0.3-bin-hadoop3.2\""
      ],
      "execution_count": 10,
      "outputs": []
    },
    {
      "cell_type": "code",
      "metadata": {
        "id": "KBFRhpg0Qr6N"
      },
      "source": [
        "import findspark\n",
        "findspark.init()\n",
        "from pyspark.sql import SparkSession\n",
        "spark = SparkSession.builder.master(\"local[*]\").getOrCreate()"
      ],
      "execution_count": 11,
      "outputs": []
    },
    {
      "cell_type": "code",
      "metadata": {
        "id": "xjsimwFaTBrB",
        "colab": {
          "base_uri": "https://localhost:8080/",
          "height": 52
        },
        "outputId": "9f14bf8c-f4eb-42cd-d865-76236fbb865c"
      },
      "source": [
        "%cd /content/\n",
        "%mkdir /chapterData \n",
        "%cd /chapterData\n",
        "%mkdir retail-data\n",
        "%cd retail-data/\n",
        "%mkdir by-day\n",
        "%cd /"
      ],
      "execution_count": 15,
      "outputs": [
        {
          "output_type": "stream",
          "text": [
            "/content\n"
          ],
          "name": "stdout"
        },
        {
          "output_type": "execute_result",
          "data": {
            "application/vnd.google.colaboratory.intrinsic+json": {
              "type": "string"
            },
            "text/plain": [
              "'/content'"
            ]
          },
          "metadata": {
            "tags": []
          },
          "execution_count": 15
        }
      ]
    },
    {
      "cell_type": "code",
      "metadata": {
        "id": "wmos7dt3dJ2E",
        "outputId": "afe9ed53-0d46-4564-aed0-a380b23a0476",
        "colab": {
          "base_uri": "https://localhost:8080/",
          "height": 35
        }
      },
      "source": [
        "%pwd\n"
      ],
      "execution_count": 16,
      "outputs": [
        {
          "output_type": "execute_result",
          "data": {
            "application/vnd.google.colaboratory.intrinsic+json": {
              "type": "string"
            },
            "text/plain": [
              "'/content'"
            ]
          },
          "metadata": {
            "tags": []
          },
          "execution_count": 16
        }
      ]
    },
    {
      "cell_type": "code",
      "metadata": {
        "id": "KGVjVYqVRgAR",
        "colab": {
          "base_uri": "https://localhost:8080/"
        },
        "outputId": "7452cf41-9441-471c-97ae-7adaf8b0abb4"
      },
      "source": [
        "!wget -P content/chapterData/retail-data/by-day 'https://raw.githubusercontent.com/databricks/Spark-The-Definitive-Guide/master/data/retail-data/by-day/2010-12-01.csv'\n",
        "!wget -P content/chapterData/retail-data/by-day 'https://raw.githubusercontent.com/databricks/Spark-The-Definitive-Guide/master/data/retail-data/by-day/2010-12-02.csv'\n",
        "!wget -P content/chapterData/retail-data/by-day 'https://raw.githubusercontent.com/databricks/Spark-The-Definitive-Guide/master/data/retail-data/by-day/2010-12-03.csv'\n",
        "!wget -P content/chapterData/retail-data/by-day 'https://raw.githubusercontent.com/databricks/Spark-The-Definitive-Guide/master/data/retail-data/by-day/2010-12-04.csv'\n",
        "!wget -P content/chapterData/retail-data/by-day 'https://raw.githubusercontent.com/databricks/Spark-The-Definitive-Guide/master/data/retail-data/by-day/2010-12-05.csv'\n",
        "!wget -P content/chapterData/retail-data/by-day 'https://raw.githubusercontent.com/databricks/Spark-The-Definitive-Guide/master/data/retail-data/by-day/2010-12-06.csv'\n",
        "!wget -P content/chapterData/retail-data/by-day 'https://raw.githubusercontent.com/databricks/Spark-The-Definitive-Guide/master/data/retail-data/by-day/2010-12-07.csv'\n"
      ],
      "execution_count": 37,
      "outputs": [
        {
          "output_type": "stream",
          "text": [
            "--2021-07-21 14:14:31--  https://raw.githubusercontent.com/databricks/Spark-The-Definitive-Guide/master/data/retail-data/by-day/2010-12-01.csv\n",
            "Resolving raw.githubusercontent.com (raw.githubusercontent.com)... 185.199.108.133, 185.199.109.133, 185.199.110.133, ...\n",
            "Connecting to raw.githubusercontent.com (raw.githubusercontent.com)|185.199.108.133|:443... connected.\n",
            "HTTP request sent, awaiting response... 200 OK\n",
            "Length: 275001 (269K) [text/plain]\n",
            "Saving to: ‘content/chapterData/retail-data/by-day/2010-12-01.csv.2’\n",
            "\n",
            "\r2010-12-01.csv.2      0%[                    ]       0  --.-KB/s               \r2010-12-01.csv.2    100%[===================>] 268.56K  --.-KB/s    in 0.008s  \n",
            "\n",
            "2021-07-21 14:14:31 (31.7 MB/s) - ‘content/chapterData/retail-data/by-day/2010-12-01.csv.2’ saved [275001/275001]\n",
            "\n",
            "--2021-07-21 14:14:31--  https://raw.githubusercontent.com/databricks/Spark-The-Definitive-Guide/master/data/retail-data/by-day/2010-12-02.csv\n",
            "Resolving raw.githubusercontent.com (raw.githubusercontent.com)... 185.199.108.133, 185.199.109.133, 185.199.110.133, ...\n",
            "Connecting to raw.githubusercontent.com (raw.githubusercontent.com)|185.199.108.133|:443... connected.\n",
            "HTTP request sent, awaiting response... 200 OK\n",
            "Length: 191826 (187K) [text/plain]\n",
            "Saving to: ‘content/chapterData/retail-data/by-day/2010-12-02.csv.2’\n",
            "\n",
            "2010-12-02.csv.2    100%[===================>] 187.33K  --.-KB/s    in 0.004s  \n",
            "\n",
            "2021-07-21 14:14:31 (47.5 MB/s) - ‘content/chapterData/retail-data/by-day/2010-12-02.csv.2’ saved [191826/191826]\n",
            "\n",
            "--2021-07-21 14:14:31--  https://raw.githubusercontent.com/databricks/Spark-The-Definitive-Guide/master/data/retail-data/by-day/2010-12-03.csv\n",
            "Resolving raw.githubusercontent.com (raw.githubusercontent.com)... 185.199.108.133, 185.199.109.133, 185.199.110.133, ...\n",
            "Connecting to raw.githubusercontent.com (raw.githubusercontent.com)|185.199.108.133|:443... connected.\n",
            "HTTP request sent, awaiting response... 200 OK\n",
            "Length: 190700 (186K) [text/plain]\n",
            "Saving to: ‘content/chapterData/retail-data/by-day/2010-12-03.csv.2’\n",
            "\n",
            "2010-12-03.csv.2    100%[===================>] 186.23K  --.-KB/s    in 0.006s  \n",
            "\n",
            "2021-07-21 14:14:31 (29.7 MB/s) - ‘content/chapterData/retail-data/by-day/2010-12-03.csv.2’ saved [190700/190700]\n",
            "\n",
            "--2021-07-21 14:14:31--  https://raw.githubusercontent.com/databricks/Spark-The-Definitive-Guide/master/data/retail-data/by-day/2010-12-04.csv\n",
            "Resolving raw.githubusercontent.com (raw.githubusercontent.com)... 185.199.108.133, 185.199.109.133, 185.199.110.133, ...\n",
            "Connecting to raw.githubusercontent.com (raw.githubusercontent.com)|185.199.108.133|:443... connected.\n",
            "HTTP request sent, awaiting response... 404 Not Found\n",
            "2021-07-21 14:14:31 ERROR 404: Not Found.\n",
            "\n",
            "--2021-07-21 14:14:31--  https://raw.githubusercontent.com/databricks/Spark-The-Definitive-Guide/master/data/retail-data/by-day/2010-12-05.csv\n",
            "Resolving raw.githubusercontent.com (raw.githubusercontent.com)... 185.199.108.133, 185.199.109.133, 185.199.110.133, ...\n",
            "Connecting to raw.githubusercontent.com (raw.githubusercontent.com)|185.199.108.133|:443... connected.\n",
            "HTTP request sent, awaiting response... 200 OK\n",
            "Length: 246056 (240K) [text/plain]\n",
            "Saving to: ‘content/chapterData/retail-data/by-day/2010-12-05.csv.2’\n",
            "\n",
            "2010-12-05.csv.2    100%[===================>] 240.29K  --.-KB/s    in 0.004s  \n",
            "\n",
            "2021-07-21 14:14:31 (60.3 MB/s) - ‘content/chapterData/retail-data/by-day/2010-12-05.csv.2’ saved [246056/246056]\n",
            "\n",
            "--2021-07-21 14:14:31--  https://raw.githubusercontent.com/databricks/Spark-The-Definitive-Guide/master/data/retail-data/by-day/2010-12-06.csv\n",
            "Resolving raw.githubusercontent.com (raw.githubusercontent.com)... 185.199.108.133, 185.199.109.133, 185.199.110.133, ...\n",
            "Connecting to raw.githubusercontent.com (raw.githubusercontent.com)|185.199.108.133|:443... connected.\n",
            "HTTP request sent, awaiting response... 200 OK\n",
            "Length: 339039 (331K) [text/plain]\n",
            "Saving to: ‘content/chapterData/retail-data/by-day/2010-12-06.csv.2’\n",
            "\n",
            "2010-12-06.csv.2    100%[===================>] 331.09K  --.-KB/s    in 0.008s  \n",
            "\n",
            "2021-07-21 14:14:31 (39.0 MB/s) - ‘content/chapterData/retail-data/by-day/2010-12-06.csv.2’ saved [339039/339039]\n",
            "\n",
            "--2021-07-21 14:14:32--  https://raw.githubusercontent.com/databricks/Spark-The-Definitive-Guide/master/data/retail-data/by-day/2010-12-07.csv\n",
            "Resolving raw.githubusercontent.com (raw.githubusercontent.com)... 185.199.109.133, 185.199.110.133, 185.199.108.133, ...\n",
            "Connecting to raw.githubusercontent.com (raw.githubusercontent.com)|185.199.109.133|:443... connected.\n",
            "HTTP request sent, awaiting response... 200 OK\n",
            "Length: 255832 (250K) [text/plain]\n",
            "Saving to: ‘content/chapterData/retail-data/by-day/2010-12-07.csv’\n",
            "\n",
            "2010-12-07.csv      100%[===================>] 249.84K  --.-KB/s    in 0.004s  \n",
            "\n",
            "2021-07-21 14:14:32 (61.8 MB/s) - ‘content/chapterData/retail-data/by-day/2010-12-07.csv’ saved [255832/255832]\n",
            "\n"
          ],
          "name": "stdout"
        }
      ]
    },
    {
      "cell_type": "markdown",
      "metadata": {
        "id": "ECJS1OI4Stfq"
      },
      "source": [
        "# New Section"
      ]
    },
    {
      "cell_type": "code",
      "metadata": {
        "id": "wify4dr8SF7h"
      },
      "source": [
        "staticDF = spark.read.format(\"csv\")\\\n",
        ".option(\"inferSchema\", \"true\")\\\n",
        ".option(\"header\", \"true\")\\\n",
        ".load(\"/content/chapterData/retail-data/by-day/*.csv\")"
      ],
      "execution_count": null,
      "outputs": []
    },
    {
      "cell_type": "code",
      "metadata": {
        "id": "iUE5HtjUZc2l"
      },
      "source": [
        "staticDF.show(10)"
      ],
      "execution_count": null,
      "outputs": []
    },
    {
      "cell_type": "code",
      "metadata": {
        "id": "_8oKWUmGcY2_"
      },
      "source": [
        "dayOfLargePurchase = staticDF.groupby(\"InvoiceDate\").sum(\"UnitPrice\").withColumnRenamed(\"sum(UnitPrice)\", \"SumOFUnitPrice\")\n",
        "dayOfLargePurchase.sort(dayOfLargePurchase.InvoiceDate.desc()).take(10)"
      ],
      "execution_count": null,
      "outputs": []
    },
    {
      "cell_type": "code",
      "metadata": {
        "id": "nQgeW6D6fr0f"
      },
      "source": [
        "from pyspark.sql.functions import window , column , desc , col \n",
        "staticDataFrame = staticDF.selectExpr(\"CustomerID\", \"(UnitPrice*Quantity) as total_purchase_value\", \"InvoiceDate\").groupBy(\\\n",
        "    col(\"CustomerId\"),\\\n",
        "    window(col(\"InvoiceDate\"),\"1 day\"))\\\n",
        ".sum(\"total_purchase_value\")\\\n",
        ".withColumnRenamed(\"sum(total_purchase_value)\", \"total_purchase_value\")\\\n",
        ".show(10)\n",
        "\n"
      ],
      "execution_count": null,
      "outputs": []
    }
  ]
}